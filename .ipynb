{
 "cells": [
  {
   "cell_type": "markdown",
   "metadata": {},
   "source": [
    "Loading the dataset"
   ]
  },
  {
   "cell_type": "code",
   "execution_count": null,
   "metadata": {},
   "outputs": [
    {
     "data": {
      "image/png": "[encoded data removed]",
      "text/plain": [
       "<Figure size 432x288 with 1 Axes>"
      ]
     },
     "metadata": {
      "needs_background": "light"
     },
     "output_type": "display_data"
    }
   ],
   "source": [
    "import os\n",
    "from keras.models import Sequential\n",
    "from sklearn.preprocessing import MinMaxScaler\n",
    "from tensorflow.python import keras\n",
    "from keras.preprocessing.sequence import TimeseriesGenerator\n",
    "from keras.models import Sequential\n",
    "from keras.layers import Dense\n",
    "from keras.layers import LSTM\n",
    "from sklearn.preprocessing import MinMaxScaler\n",
    "from sklearn.metrics import mean_squared_error\n",
    "import numpy as np\n",
    "from pandas import read_csv\n",
    "import pandas as pd\n",
    "import matplotlib.pyplot as plt\n",
    "\n",
    "dataset = pd.read_csv('C:\\\\Users\\\\Mirela\\\\PycharmProjects\\\\Avocado\\\\avocado.csv',\n",
    "                      usecols=[2]).values.astype('float32')\n",
    "\n",
    "\n",
    "def delta_time_series(data):\n",
    "    return data[1:] - data[:-1]\n",
    "\n",
    "dataset = delta_time_series(dataset)\n",
    "\n",
    "dataset.shape\n",
    "\n",
    "\n",
    "def plot_delta(data):\n",
    "    plt.plot(delta_time_series(data))\n",
    "    plt.ylabel('Avg. Price')\n",
    "    plt.show()\n",
    "\n",
    "plot_delta(dataset)"
   ]
  },
  {
   "cell_type": "code",
   "execution_count": 43,
   "metadata": {},
   "outputs": [],
   "source": [
    "# Helper function to get y as a numpy array from the TimeseriesGenerator\n",
    "def get_y_from_generator(gen):\n",
    "    '''\n",
    "    Get all targets y from a TimeseriesGenerator instance.\n",
    "    '''\n",
    "    y = None\n",
    "    for i in range(len(gen)):\n",
    "        batch_y = gen[i][1]\n",
    "        if y is None:\n",
    "            y = batch_y\n",
    "        else:\n",
    "            y = np.append(y, batch_y)\n",
    "    y = y.reshape((-1,1))\n",
    "    print(y.shape)\n",
    "    return y\n",
    "\n"
   ]
  },
  {
   "cell_type": "code",
   "execution_count": 44,
   "metadata": {},
   "outputs": [],
   "source": [
    "# normalize the dataset\n",
    "scaler = MinMaxScaler(feature_range=(0, 1))\n",
    "dataset = scaler.fit_transform(dataset)\n"
   ]
  },
  {
   "cell_type": "code",
   "execution_count": 45,
   "metadata": {},
   "outputs": [],
   "source": [
    "# split into train and test sets\n",
    "\n",
    "train, val, test = dataset[0:12000, :], dataset[12001:13000, :], dataset[13001:None, :]\n",
    "\n",
    "lookback = 84\n",
    "step = 2\n",
    "batch_size = 128\n",
    "\n",
    "train_data_gen = TimeseriesGenerator(train, train,\n",
    "                                     length=lookback, sampling_rate=step, stride=1,shuffle=True,\n",
    "                                     batch_size=batch_size)\n",
    "\n",
    "val_data_gen = TimeseriesGenerator(val, val,\n",
    "                                   length=lookback, sampling_rate=step, stride=1,\n",
    "                                   batch_size=batch_size)\n",
    "\n",
    "test_data_gen = TimeseriesGenerator(test, test,\n",
    "                                    length=lookback, sampling_rate=step, stride=1,\n",
    "                                    batch_size=batch_size)\n",
    "\n",
    "val_steps = (13000 - 12001 - lookback)\n",
    "test_steps = (len(dataset) - 13001 - lookback)"
   ]
  },
  {
   "cell_type": "code",
   "execution_count": 46,
   "metadata": {},
   "outputs": [
    {
     "name": "stdout",
     "output_type": "stream",
     "text": [
      "Epoch 1/20\n",
      "500/500 [==============================] - 13s 26ms/step - loss: 0.0583 - val_loss: 0.0892\n",
      "Epoch 2/20\n",
      "500/500 [==============================] - 13s 26ms/step - loss: 0.0480 - val_loss: 0.0644\n",
      "Epoch 3/20\n",
      "500/500 [==============================] - 13s 26ms/step - loss: 0.0452 - val_loss: 0.0825\n",
      "Epoch 4/20\n",
      "500/500 [==============================] - 13s 26ms/step - loss: 0.0437 - val_loss: 0.0663\n",
      "Epoch 5/20\n",
      "500/500 [==============================] - 13s 26ms/step - loss: 0.0426 - val_loss: 0.0482\n",
      "Epoch 6/20\n",
      "500/500 [==============================] - 13s 26ms/step - loss: 0.0419 - val_loss: 0.0419\n",
      "Epoch 7/20\n",
      "500/500 [==============================] - 13s 26ms/step - loss: 0.0414 - val_loss: 0.0879\n",
      "Epoch 8/20\n",
      "500/500 [==============================] - 13s 26ms/step - loss: 0.0410 - val_loss: 0.0961\n",
      "Epoch 9/20\n",
      "500/500 [==============================] - 13s 26ms/step - loss: 0.0409 - val_loss: 0.0698\n",
      "Epoch 10/20\n",
      "500/500 [==============================] - 13s 26ms/step - loss: 0.0406 - val_loss: 0.0545\n",
      "Epoch 11/20\n",
      "500/500 [==============================] - 13s 26ms/step - loss: 0.0402 - val_loss: 0.0776\n",
      "Epoch 12/20\n",
      "500/500 [==============================] - 13s 26ms/step - loss: 0.0398 - val_loss: 0.0631\n",
      "Epoch 13/20\n",
      "500/500 [==============================] - 13s 26ms/step - loss: 0.0394 - val_loss: 0.0465\n",
      "Epoch 14/20\n",
      "500/500 [==============================] - 13s 26ms/step - loss: 0.0399 - val_loss: 0.0390\n",
      "Epoch 15/20\n",
      "500/500 [==============================] - 13s 26ms/step - loss: 0.0394 - val_loss: 0.0857\n",
      "Epoch 16/20\n",
      "500/500 [==============================] - 13s 26ms/step - loss: 0.0396 - val_loss: 0.0930\n",
      "Epoch 17/20\n",
      "500/500 [==============================] - 13s 26ms/step - loss: 0.0395 - val_loss: 0.0693\n",
      "Epoch 18/20\n",
      "500/500 [==============================] - 13s 26ms/step - loss: 0.0394 - val_loss: 0.0548\n",
      "Epoch 19/20\n",
      "500/500 [==============================] - 13s 26ms/step - loss: 0.0391 - val_loss: 0.0789\n",
      "Epoch 20/20\n",
      "500/500 [==============================] - 13s 26ms/step - loss: 0.0393 - val_loss: 0.0631\n"
     ]
    }
   ],
   "source": [
    "from keras.models import Sequential\n",
    "from keras import layers\n",
    "from keras.optimizers import RMSprop\n",
    "\n",
    "model = Sequential()\n",
    "model.add(layers.Flatten(input_shape=(lookback // step,\n",
    "dataset.shape[-1])))\n",
    "model.add(layers.Dense(32, activation='relu'))\n",
    "model.add(layers.Dense(1))\n",
    "\n",
    "model.compile(optimizer=RMSprop(), loss='mae')\n",
    "\n",
    "history = model.fit_generator(train_data_gen, steps_per_epoch=500, epochs=20,\n",
    "validation_data=val_data_gen,validation_steps=val_steps)\n",
    "\n",
    "\n"
   ]
  },
  {
   "cell_type": "code",
   "execution_count": 47,
   "metadata": {},
   "outputs": [
    {
     "data": {
      "image/png": "[encoded data removed]",
      "text/plain": [
       "<Figure size 432x288 with 1 Axes>"
      ]
     },
     "metadata": {
      "needs_background": "light"
     },
     "output_type": "display_data"
    }
   ],
   "source": [
    "loss = history.history['loss']\n",
    "val_loss = history.history['val_loss']\n",
    "epochs = range(1, len(loss) + 1)\n",
    "plt.figure()\n",
    "plt.plot(epochs, loss, 'bo', label='Training loss')\n",
    "plt.plot(epochs, val_loss, 'b', label='Validation loss')\n",
    "plt.title('Training and validation loss')\n",
    "plt.legend()\n",
    "plt.show()"
   ]
  },
  {
   "cell_type": "code",
   "execution_count": null,
   "metadata": {},
   "outputs": [],
   "source": [
    "from keras.models import Sequential\n",
    "from keras import layers\n",
    "from keras.optimizers import RMSprop\n",
    "model = Sequential()\n",
    "model.add(layers.GRU(32, input_shape=(None, dataset.shape[-1])))\n",
    "model.add(layers.Dense(1))\n",
    "\n",
    "model.compile(optimizer=RMSprop(), loss='mae')\n",
    "\n",
    "history = model.fit_generator(train_data_gen, steps_per_epoch=500, epochs=20,\n",
    "validation_data=val_data_gen,\n",
    "validation_steps=val_steps)\n",
    "\n",
    "loss = history.history['loss']\n",
    "val_loss = history.history['val_loss']\n",
    "epochs = range(1, len(loss) + 1)\n",
    "plt.figure()\n",
    "plt.plot(epochs, loss, 'bo', label='Training loss')\n",
    "plt.plot(epochs, val_loss, 'b', label='Validation loss')\n",
    "plt.title('Training and validation loss')\n",
    "plt.legend()\n",
    "plt.show()"
   ]
  },
  {
   "cell_type": "code",
   "execution_count": null,
   "metadata": {},
   "outputs": [],
   "source": [
    "from keras.models import Sequential\n",
    "from keras import layers\n",
    "from keras.optimizers import RMSprop\n",
    "model = Sequential()\n",
    "model.add(layers.GRU(32, dropout=0.2, recurrent_dropout=0.2,input_shape=(None, dataset.shape[-1])))\n",
    "model.add(layers.Dense(1))\n",
    "\n",
    "model.compile(optimizer=RMSprop(), loss='mae')\n",
    "\n",
    "history = model.fit_generator(train_data_gen,steps_per_epoch=500,epochs=40,validation_data=val_data_gen,\n",
    "validation_steps=val_steps)"
   ]
  },
  {
   "cell_type": "code",
   "execution_count": null,
   "metadata": {},
   "outputs": [],
   "source": [
    "loss = history.history['loss']\n",
    "val_loss = history.history['val_loss']\n",
    "epochs = range(1, len(loss) + 1)\n",
    "plt.figure()\n",
    "plt.plot(epochs, loss, 'bo', label='Training loss')\n",
    "plt.plot(epochs, val_loss, 'b', label='Validation loss')\n",
    "plt.title('Training and validation loss')\n",
    "plt.legend()\n",
    "plt.show()"
   ]
  },
  {
   "cell_type": "code",
   "execution_count": null,
   "metadata": {},
   "outputs": [],
   "source": [
    "from keras.models import Sequential\n",
    "from keras import layers\n",
    "from keras.optimizers import RMSprop\n",
    "model = Sequential()\n",
    "model.add(layers.GRU(32,dropout=0.1,recurrent_dropout=0.5,return_sequences=True,\n",
    "input_shape=(None, dataset.shape[-1])))\n",
    "model.add(layers.GRU(64, activation='relu',dropout=0.1,recurrent_dropout=0.5))\n",
    "model.add(layers.Dense(1))\n",
    "\n",
    "model.compile(optimizer=RMSprop(), loss='mae')\n",
    "\n",
    "history = model.fit_generator(train_data_gen,steps_per_epoch=500,epochs=40,validation_data=val_data_gen,validation_steps=val_steps)"
   ]
  },
  {
   "cell_type": "code",
   "execution_count": null,
   "metadata": {},
   "outputs": [],
   "source": [
    "loss = history.history['loss']\n",
    "val_loss = history.history['val_loss']\n",
    "epochs = range(1, len(loss) + 1)\n",
    "plt.figure()\n",
    "plt.plot(epochs, loss, 'bo', label='Training loss')\n",
    "plt.plot(epochs, val_loss, 'b', label='Validation loss')\n",
    "plt.title('Training and validation loss')\n",
    "plt.legend()\n",
    "plt.show()"
   ]
  }
 ],
 "metadata": {
  "kernelspec": {
   "display_name": "Python 3",
   "language": "python",
   "name": "python3"
  },
  "language_info": {
   "codemirror_mode": {
    "name": "ipython",
    "version": 3
   },
   "file_extension": ".py",
   "mimetype": "text/x-python",
   "name": "python",
   "nbconvert_exporter": "python",
   "pygments_lexer": "ipython3",
   "version": "3.7.3"
  }
 },
 "nbformat": 4,
 "nbformat_minor": 1
}
