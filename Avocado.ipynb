{
 "cells": [
  {
   "cell_type": "markdown",
   "metadata": {},
   "source": [
    "Loading the dataset"
   ]
  },
  {
   "cell_type": "code",
   "execution_count": 1,
   "metadata": {},
   "outputs": [
    {
     "name": "stderr",
     "output_type": "stream",
     "text": [
      "Using TensorFlow backend.\n"
     ]
    },
    {
     "data": {
      "text/plain": [
       "<Figure size 640x480 with 1 Axes>"
      ]
     },
     "metadata": {},
     "output_type": "display_data"
    }
   ],
   "source": [
    "import os\n",
    "from keras.models import Sequential\n",
    "from sklearn.preprocessing import MinMaxScaler\n",
    "from tensorflow.python import keras\n",
    "from keras.preprocessing.sequence import TimeseriesGenerator\n",
    "from keras.models import Sequential\n",
    "from keras.layers import Dense\n",
    "from keras.layers import LSTM\n",
    "from sklearn.preprocessing import MinMaxScaler\n",
    "from sklearn.metrics import mean_squared_error\n",
    "import numpy as np\n",
    "from pandas import read_csv\n",
    "import pandas as pd\n",
    "import matplotlib.pyplot as plt\n",
    "\n",
    "dataset = pd.read_csv('C:\\\\Users\\\\Mirela\\\\PycharmProjects\\\\Avocado\\\\avocado.csv',\n",
    "                      usecols=[2]).values.astype('float32')\n",
    "\n",
    "\n",
    "def delta_time_series(data):\n",
    "    return data[1:] - data[:-1]\n",
    "\n",
    "dataset = delta_time_series(dataset)\n",
    "\n",
    "dataset.shape\n",
    "\n",
    "\n",
    "def plot_delta(data):\n",
    "    plt.plot(delta_time_series(data))\n",
    "    plt.ylabel('Avg. Price')\n",
    "    plt.show()\n",
    "\n",
    "plot_delta(dataset)"
   ]
  },
  {
   "cell_type": "code",
   "execution_count": 2,
   "metadata": {},
   "outputs": [],
   "source": [
    "# Helper function to get y as a numpy array from the TimeseriesGenerator\n",
    "def get_y_from_generator(gen):\n",
    "    '''\n",
    "    Get all targets y from a TimeseriesGenerator instance.\n",
    "    '''\n",
    "    y = None\n",
    "    for i in range(len(gen)):\n",
    "        batch_y = gen[i][1]\n",
    "        if y is None:\n",
    "            y = batch_y\n",
    "        else:\n",
    "            y = np.append(y, batch_y)\n",
    "    y = y.reshape((-1,1))\n",
    "    print(y.shape)\n",
    "    return y\n",
    "\n"
   ]
  },
  {
   "cell_type": "code",
   "execution_count": 3,
   "metadata": {},
   "outputs": [],
   "source": [
    "# normalize the dataset\n",
    "scaler = MinMaxScaler(feature_range=(0, 1))\n",
    "dataset = scaler.fit_transform(dataset)\n"
   ]
  },
  {
   "cell_type": "code",
   "execution_count": 4,
   "metadata": {},
   "outputs": [],
   "source": [
    "# split into train and test sets\n",
    "\n",
    "train, val, test = dataset[0:12000, :], dataset[12001:13000, :], dataset[13001:None, :]\n",
    "\n",
    "lookback = 84\n",
    "step = 2\n",
    "batch_size = 128\n",
    "\n",
    "train_data_gen = TimeseriesGenerator(train, train,\n",
    "                                     length=lookback, sampling_rate=step, stride=1,shuffle=True,\n",
    "                                     batch_size=batch_size)\n",
    "\n",
    "val_data_gen = TimeseriesGenerator(val, val,\n",
    "                                   length=lookback, sampling_rate=step, stride=1,\n",
    "                                   batch_size=batch_size)\n",
    "\n",
    "test_data_gen = TimeseriesGenerator(test, test,\n",
    "                                    length=lookback, sampling_rate=step, stride=1,\n",
    "                                    batch_size=batch_size)\n",
    "\n",
    "val_steps = (13000 - 12001 - lookback)\n",
    "test_steps = (len(dataset) - 13001 - lookback)"
   ]
  },
  {
   "cell_type": "code",
   "execution_count": 5,
   "metadata": {},
   "outputs": [
    {
     "name": "stdout",
     "output_type": "stream",
     "text": [
      "Epoch 1/10\n",
      "500/500 [==============================] - 26s 53ms/step - loss: 0.0472 - val_loss: 0.0697\n",
      "Epoch 2/10\n",
      "500/500 [==============================] - 26s 51ms/step - loss: 0.0399 - val_loss: 0.0537\n",
      "Epoch 3/10\n",
      "500/500 [==============================] - 26s 51ms/step - loss: 0.0394 - val_loss: 0.0725\n",
      "Epoch 4/10\n",
      "500/500 [==============================] - 25s 49ms/step - loss: 0.0394 - val_loss: 0.0609\n",
      "Epoch 5/10\n",
      "500/500 [==============================] - 25s 50ms/step - loss: 0.0391 - val_loss: 0.0451\n",
      "Epoch 6/10\n",
      "500/500 [==============================] - 25s 50ms/step - loss: 0.0388 - val_loss: 0.0415\n",
      "Epoch 7/10\n",
      "500/500 [==============================] - 25s 50ms/step - loss: 0.0389 - val_loss: 0.0842\n",
      "Epoch 8/10\n",
      "500/500 [==============================] - 25s 49ms/step - loss: 0.0388 - val_loss: 0.0899\n",
      "Epoch 9/10\n",
      "500/500 [==============================] - 25s 50ms/step - loss: 0.0388 - val_loss: 0.0675\n",
      "Epoch 10/10\n",
      "500/500 [==============================] - 25s 50ms/step - loss: 0.0385 - val_loss: 0.0542\n"
     ]
    },
    {
     "data": {
      "image/png": "[encoded data removed]",
      "text/plain": [
       "<Figure size 432x288 with 1 Axes>"
      ]
     },
     "metadata": {
      "needs_background": "light"
     },
     "output_type": "display_data"
    }
   ],
   "source": [
    "from keras.models import Sequential\n",
    "from keras import layers\n",
    "from keras.optimizers import RMSprop\n",
    "\n",
    "model = Sequential()\n",
    "model.add(layers.GRU(32, input_shape=(None, dataset.shape[-1])))\n",
    "model.add(layers.Dense(1))\n",
    "model.compile(optimizer=RMSprop(), loss='mae')\n",
    "history = model.fit_generator(train_data_gen,\n",
    "                              steps_per_epoch=500,\n",
    "                              epochs=10,\n",
    "                              validation_data=val_data_gen,\n",
    "                              validation_steps=val_steps)\n",
    "\n",
    "loss = history.history['loss']\n",
    "val_loss = history.history['val_loss']\n",
    "epochs = range(1, len(loss) + 1)\n",
    "plt.figure()\n",
    "plt.plot(epochs, loss, 'bo', label='Training loss')\n",
    "plt.plot(epochs, val_loss, 'b', label='Validation loss')\n",
    "plt.title('Training and validation loss')\n",
    "plt.legend()\n",
    "plt.show()"
   ]
  },
  {
   "cell_type": "code",
   "execution_count": 6,
   "metadata": {
    "scrolled": true
   },
   "outputs": [
    {
     "name": "stdout",
     "output_type": "stream",
     "text": [
      "Epoch 1/20\n",
      "500/500 [==============================] - 26s 52ms/step - loss: 0.0461 - val_loss: 0.0693\n",
      "Epoch 2/20\n",
      "500/500 [==============================] - 25s 50ms/step - loss: 0.0403 - val_loss: 0.0530\n",
      "Epoch 3/20\n",
      "500/500 [==============================] - 24s 49ms/step - loss: 0.0396 - val_loss: 0.0726\n",
      "Epoch 4/20\n",
      "500/500 [==============================] - 24s 49ms/step - loss: 0.0392 - val_loss: 0.0602\n",
      "Epoch 5/20\n",
      "500/500 [==============================] - 24s 49ms/step - loss: 0.0388 - val_loss: 0.0450\n",
      "Epoch 6/20\n",
      "500/500 [==============================] - 25s 49ms/step - loss: 0.0389 - val_loss: 0.0396\n",
      "Epoch 7/20\n",
      "500/500 [==============================] - 24s 49ms/step - loss: 0.0390 - val_loss: 0.0837\n",
      "Epoch 8/20\n",
      "500/500 [==============================] - 25s 49ms/step - loss: 0.0387 - val_loss: 0.0896\n",
      "Epoch 9/20\n",
      "500/500 [==============================] - 25s 49ms/step - loss: 0.0388 - val_loss: 0.0669\n",
      "Epoch 10/20\n",
      "500/500 [==============================] - 25s 49ms/step - loss: 0.0386 - val_loss: 0.0539\n",
      "Epoch 11/20\n",
      "500/500 [==============================] - 25s 49ms/step - loss: 0.0388 - val_loss: 0.0723\n",
      "Epoch 12/20\n",
      "500/500 [==============================] - 25s 49ms/step - loss: 0.0388 - val_loss: 0.0598\n",
      "Epoch 13/20\n",
      "500/500 [==============================] - 24s 49ms/step - loss: 0.0388 - val_loss: 0.0444\n",
      "Epoch 14/20\n",
      "500/500 [==============================] - 24s 48ms/step - loss: 0.0387 - val_loss: 0.0392\n",
      "Epoch 15/20\n",
      "500/500 [==============================] - 24s 49ms/step - loss: 0.0389 - val_loss: 0.0844\n",
      "Epoch 16/20\n",
      "500/500 [==============================] - 24s 49ms/step - loss: 0.0385 - val_loss: 0.0889\n",
      "Epoch 17/20\n",
      "500/500 [==============================] - 24s 49ms/step - loss: 0.0387 - val_loss: 0.0670\n",
      "Epoch 18/20\n",
      "500/500 [==============================] - 25s 49ms/step - loss: 0.0386 - val_loss: 0.0534\n",
      "Epoch 19/20\n",
      "500/500 [==============================] - 25s 49ms/step - loss: 0.0386 - val_loss: 0.0723\n",
      "Epoch 20/20\n",
      "500/500 [==============================] - 25s 49ms/step - loss: 0.0385 - val_loss: 0.0598\n"
     ]
    },
    {
     "data": {
      "image/png": "[encoded data removed]",
      "text/plain": [
       "<Figure size 432x288 with 1 Axes>"
      ]
     },
     "metadata": {
      "needs_background": "light"
     },
     "output_type": "display_data"
    }
   ],
   "source": [
    "from keras.models import Sequential\n",
    "from keras import layers\n",
    "from keras.optimizers import RMSprop\n",
    "model = Sequential()\n",
    "model.add(layers.GRU(32, input_shape=(None, dataset.shape[-1])))\n",
    "model.add(layers.Dense(1))\n",
    "\n",
    "model.compile(optimizer=RMSprop(), loss='mae')\n",
    "\n",
    "history = model.fit_generator(train_data_gen, steps_per_epoch=500, epochs=20,\n",
    "validation_data=val_data_gen,\n",
    "validation_steps=val_steps)\n",
    "\n",
    "loss = history.history['loss']\n",
    "val_loss = history.history['val_loss']\n",
    "epochs = range(1, len(loss) + 1)\n",
    "plt.figure()\n",
    "plt.plot(epochs, loss, 'bo', label='Training loss')\n",
    "plt.plot(epochs, val_loss, 'b', label='Validation loss')\n",
    "plt.title('Training and validation loss')\n",
    "plt.legend()\n",
    "plt.show()"
   ]
  },
  {
   "cell_type": "code",
   "execution_count": 7,
   "metadata": {},
   "outputs": [
    {
     "name": "stdout",
     "output_type": "stream",
     "text": [
      "Epoch 1/40\n",
      "500/500 [==============================] - 25s 50ms/step - loss: 0.0532 - val_loss: 0.0707\n",
      "Epoch 2/40\n",
      "500/500 [==============================] - 25s 51ms/step - loss: 0.0398 - val_loss: 0.0535\n",
      "Epoch 3/40\n",
      "500/500 [==============================] - 25s 51ms/step - loss: 0.0393 - val_loss: 0.0733\n",
      "Epoch 4/40\n",
      "500/500 [==============================] - 25s 51ms/step - loss: 0.0394 - val_loss: 0.0598\n",
      "Epoch 5/40\n",
      "500/500 [==============================] - 25s 51ms/step - loss: 0.0391 - val_loss: 0.0443\n",
      "Epoch 6/40\n",
      "500/500 [==============================] - 26s 51ms/step - loss: 0.0391 - val_loss: 0.0403\n",
      "Epoch 7/40\n",
      "500/500 [==============================] - 25s 50ms/step - loss: 0.0388 - val_loss: 0.0826\n",
      "Epoch 8/40\n",
      "500/500 [==============================] - 25s 50ms/step - loss: 0.0385 - val_loss: 0.0925\n",
      "Epoch 9/40\n",
      "500/500 [==============================] - 25s 50ms/step - loss: 0.0388 - val_loss: 0.0670\n",
      "Epoch 10/40\n",
      "500/500 [==============================] - 25s 50ms/step - loss: 0.0387 - val_loss: 0.0539\n",
      "Epoch 11/40\n",
      "500/500 [==============================] - 25s 50ms/step - loss: 0.0389 - val_loss: 0.0732\n",
      "Epoch 12/40\n",
      "500/500 [==============================] - 25s 49ms/step - loss: 0.0391 - val_loss: 0.0600\n",
      "Epoch 13/40\n",
      "500/500 [==============================] - 25s 49ms/step - loss: 0.0388 - val_loss: 0.0443\n",
      "Epoch 14/40\n",
      "500/500 [==============================] - 25s 50ms/step - loss: 0.0387 - val_loss: 0.0391\n",
      "Epoch 15/40\n",
      "500/500 [==============================] - 25s 50ms/step - loss: 0.0385 - val_loss: 0.0829\n",
      "Epoch 16/40\n",
      "500/500 [==============================] - 25s 50ms/step - loss: 0.0386 - val_loss: 0.0910\n",
      "Epoch 17/40\n",
      "500/500 [==============================] - 25s 50ms/step - loss: 0.0390 - val_loss: 0.0670\n",
      "Epoch 18/40\n",
      "500/500 [==============================] - 24s 49ms/step - loss: 0.0388 - val_loss: 0.0530\n",
      "Epoch 19/40\n",
      "500/500 [==============================] - 25s 49ms/step - loss: 0.0385 - val_loss: 0.0731\n",
      "Epoch 20/40\n",
      "500/500 [==============================] - 25s 49ms/step - loss: 0.0388 - val_loss: 0.0594\n",
      "Epoch 21/40\n",
      "500/500 [==============================] - 25s 49ms/step - loss: 0.0386 - val_loss: 0.0446\n",
      "Epoch 22/40\n",
      "500/500 [==============================] - 25s 50ms/step - loss: 0.0387 - val_loss: 0.0390\n",
      "Epoch 23/40\n",
      "500/500 [==============================] - 25s 49ms/step - loss: 0.0387 - val_loss: 0.0831\n",
      "Epoch 24/40\n",
      "500/500 [==============================] - 25s 49ms/step - loss: 0.0387 - val_loss: 0.0954\n",
      "Epoch 25/40\n",
      "500/500 [==============================] - 25s 50ms/step - loss: 0.0387 - val_loss: 0.0670\n",
      "Epoch 26/40\n",
      "500/500 [==============================] - 25s 50ms/step - loss: 0.0385 - val_loss: 0.0528\n",
      "Epoch 27/40\n",
      "500/500 [==============================] - 25s 49ms/step - loss: 0.0386 - val_loss: 0.0731\n",
      "Epoch 28/40\n",
      "500/500 [==============================] - 24s 49ms/step - loss: 0.0387 - val_loss: 0.0597\n",
      "Epoch 29/40\n",
      "500/500 [==============================] - 25s 50ms/step - loss: 0.0388 - val_loss: 0.0443\n",
      "Epoch 30/40\n",
      "500/500 [==============================] - 25s 50ms/step - loss: 0.0386 - val_loss: 0.0399\n",
      "Epoch 31/40\n",
      "500/500 [==============================] - 25s 49ms/step - loss: 0.0389 - val_loss: 0.0829\n",
      "Epoch 32/40\n",
      "500/500 [==============================] - 25s 49ms/step - loss: 0.0387 - val_loss: 0.0956\n",
      "Epoch 33/40\n",
      "500/500 [==============================] - 25s 49ms/step - loss: 0.0388 - val_loss: 0.0672\n",
      "Epoch 34/40\n",
      "500/500 [==============================] - 25s 50ms/step - loss: 0.0385 - val_loss: 0.0533\n",
      "Epoch 35/40\n",
      "500/500 [==============================] - 25s 50ms/step - loss: 0.0384 - val_loss: 0.0730\n",
      "Epoch 36/40\n",
      "500/500 [==============================] - 25s 49ms/step - loss: 0.0387 - val_loss: 0.0594\n",
      "Epoch 37/40\n",
      "500/500 [==============================] - 25s 49ms/step - loss: 0.0385 - val_loss: 0.0441\n",
      "Epoch 38/40\n",
      "500/500 [==============================] - 25s 51ms/step - loss: 0.0386 - val_loss: 0.0394\n",
      "Epoch 39/40\n",
      "500/500 [==============================] - 25s 49ms/step - loss: 0.0385 - val_loss: 0.0829\n",
      "Epoch 40/40\n",
      "500/500 [==============================] - 25s 49ms/step - loss: 0.0385 - val_loss: 0.0943\n"
     ]
    },
    {
     "data": {
      "image/png": "[encoded data removed]",
      "text/plain": [
       "<Figure size 432x288 with 1 Axes>"
      ]
     },
     "metadata": {
      "needs_background": "light"
     },
     "output_type": "display_data"
    }
   ],
   "source": [
    "from keras.models import Sequential\n",
    "from keras import layers\n",
    "from keras.optimizers import RMSprop\n",
    "model = Sequential()\n",
    "model.add(layers.GRU(32, dropout=0.2, recurrent_dropout=0.2,input_shape=(None, dataset.shape[-1])))\n",
    "model.add(layers.Dense(1))\n",
    "\n",
    "model.compile(optimizer=RMSprop(), loss='mae')\n",
    "\n",
    "history = model.fit_generator(train_data_gen,steps_per_epoch=500,epochs=40,validation_data=val_data_gen,\n",
    "validation_steps=val_steps)\n",
    "loss = history.history['loss']\n",
    "val_loss = history.history['val_loss']\n",
    "epochs = range(1, len(loss) + 1)\n",
    "plt.figure()\n",
    "plt.plot(epochs, loss, 'bo', label='Training loss')\n",
    "plt.plot(epochs, val_loss, 'b', label='Validation loss')\n",
    "plt.title('Training and validation loss')\n",
    "plt.legend()\n",
    "plt.show()"
   ]
  },
  {
   "cell_type": "code",
   "execution_count": 8,
   "metadata": {},
   "outputs": [
    {
     "name": "stdout",
     "output_type": "stream",
     "text": [
      "Epoch 1/40\n",
      "500/500 [==============================] - 54s 109ms/step - loss: 2970183.1122 - val_loss: 0.1487\n",
      "Epoch 2/40\n",
      "500/500 [==============================] - 60s 120ms/step - loss: 0.0424 - val_loss: 0.0610\n",
      "Epoch 3/40\n",
      "500/500 [==============================] - 60s 120ms/step - loss: 0.0386 - val_loss: 0.0766\n",
      "Epoch 4/40\n",
      "500/500 [==============================] - 59s 118ms/step - loss: 0.0381 - val_loss: 0.0617\n",
      "Epoch 5/40\n",
      "500/500 [==============================] - 59s 118ms/step - loss: 0.0384 - val_loss: 0.0466\n",
      "Epoch 6/40\n",
      "500/500 [==============================] - 59s 117ms/step - loss: 0.0384 - val_loss: 0.0400\n",
      "Epoch 7/40\n",
      "500/500 [==============================] - 59s 117ms/step - loss: 0.0383 - val_loss: 0.0838\n",
      "Epoch 8/40\n",
      "500/500 [==============================] - 59s 118ms/step - loss: 0.0386 - val_loss: 0.0930\n",
      "Epoch 9/40\n",
      "500/500 [==============================] - 56s 113ms/step - loss: 0.0384 - val_loss: 0.0673\n",
      "Epoch 10/40\n",
      "500/500 [==============================] - 52s 104ms/step - loss: 0.0386 - val_loss: 0.0532\n",
      "Epoch 11/40\n",
      "500/500 [==============================] - 59s 117ms/step - loss: 0.0384 - val_loss: 0.0730\n",
      "Epoch 12/40\n",
      "500/500 [==============================] - 58s 115ms/step - loss: 0.0384 - val_loss: 0.0594\n",
      "Epoch 13/40\n",
      "500/500 [==============================] - 52s 104ms/step - loss: 0.0384 - val_loss: 0.0457\n",
      "Epoch 14/40\n",
      "500/500 [==============================] - 61s 121ms/step - loss: 0.0384 - val_loss: 0.0397\n",
      "Epoch 15/40\n",
      "500/500 [==============================] - 60s 120ms/step - loss: 0.0386 - val_loss: 0.0833\n",
      "Epoch 16/40\n",
      "500/500 [==============================] - 61s 122ms/step - loss: 0.0386 - val_loss: 0.0916\n",
      "Epoch 17/40\n",
      "500/500 [==============================] - 61s 121ms/step - loss: 0.0384 - val_loss: 0.0675\n",
      "Epoch 18/40\n",
      "500/500 [==============================] - 59s 117ms/step - loss: 0.0383 - val_loss: 0.0528\n",
      "Epoch 19/40\n",
      "500/500 [==============================] - 60s 119ms/step - loss: 0.0385 - val_loss: 0.0729\n",
      "Epoch 20/40\n",
      "500/500 [==============================] - 60s 120ms/step - loss: 0.0382 - val_loss: 0.0594\n",
      "Epoch 21/40\n",
      "500/500 [==============================] - 59s 118ms/step - loss: 0.0383 - val_loss: 0.0451\n",
      "Epoch 22/40\n",
      "500/500 [==============================] - 59s 118ms/step - loss: 0.0387 - val_loss: 0.0389\n",
      "Epoch 23/40\n",
      "500/500 [==============================] - 55s 110ms/step - loss: 0.0385 - val_loss: 0.0834\n",
      "Epoch 24/40\n",
      "500/500 [==============================] - 59s 119ms/step - loss: 0.0383 - val_loss: 0.0935\n",
      "Epoch 25/40\n",
      "500/500 [==============================] - 58s 117ms/step - loss: 0.0387 - val_loss: 0.0668\n",
      "Epoch 26/40\n",
      "500/500 [==============================] - 60s 119ms/step - loss: 0.0381 - val_loss: 0.0539\n",
      "Epoch 27/40\n",
      "500/500 [==============================] - 54s 108ms/step - loss: 0.0384 - val_loss: 0.0729\n",
      "Epoch 28/40\n",
      "500/500 [==============================] - 60s 120ms/step - loss: 0.0381 - val_loss: 0.0596\n",
      "Epoch 29/40\n",
      "500/500 [==============================] - 60s 121ms/step - loss: 0.0383 - val_loss: 0.0445\n",
      "Epoch 30/40\n",
      "500/500 [==============================] - 61s 121ms/step - loss: 0.0381 - val_loss: 0.0391\n",
      "Epoch 31/40\n",
      "500/500 [==============================] - 60s 120ms/step - loss: 0.0385 - val_loss: 0.0829\n",
      "Epoch 32/40\n",
      "500/500 [==============================] - 58s 116ms/step - loss: 0.0380 - val_loss: 0.0939\n",
      "Epoch 33/40\n",
      "500/500 [==============================] - 61s 121ms/step - loss: 0.0382 - val_loss: 0.0674\n",
      "Epoch 34/40\n",
      "500/500 [==============================] - 59s 119ms/step - loss: 0.0383 - val_loss: 0.0528\n",
      "Epoch 35/40\n",
      "500/500 [==============================] - 60s 121ms/step - loss: 0.0380 - val_loss: 0.0730\n",
      "Epoch 36/40\n",
      "500/500 [==============================] - 60s 120ms/step - loss: 0.0385 - val_loss: 0.0596\n",
      "Epoch 37/40\n",
      "500/500 [==============================] - 61s 122ms/step - loss: 0.0382 - val_loss: 0.0447\n",
      "Epoch 38/40\n",
      "500/500 [==============================] - 59s 118ms/step - loss: 0.0381 - val_loss: 0.0390\n",
      "Epoch 39/40\n",
      "500/500 [==============================] - 63s 127ms/step - loss: 0.0384 - val_loss: 0.0830\n",
      "Epoch 40/40\n",
      "500/500 [==============================] - 61s 122ms/step - loss: 0.0381 - val_loss: 0.0944\n"
     ]
    },
    {
     "data": {
      "image/png": "[encoded data removed]",
      "text/plain": [
       "<Figure size 432x288 with 1 Axes>"
      ]
     },
     "metadata": {
      "needs_background": "light"
     },
     "output_type": "display_data"
    }
   ],
   "source": [
    "from keras.models import Sequential\n",
    "from keras import layers\n",
    "from keras.optimizers import RMSprop\n",
    "model = Sequential()\n",
    "model.add(layers.GRU(32,dropout=0.1,recurrent_dropout=0.5,return_sequences=True,\n",
    "input_shape=(None, dataset.shape[-1])))\n",
    "model.add(layers.GRU(64, activation='relu',dropout=0.1,recurrent_dropout=0.5))\n",
    "model.add(layers.Dense(1))\n",
    "\n",
    "model.compile(optimizer=RMSprop(), loss='mae')\n",
    "\n",
    "history = model.fit_generator(train_data_gen,steps_per_epoch=500,epochs=40,validation_data=val_data_gen,validation_steps=val_steps)\n",
    "\n",
    "loss = history.history['loss']\n",
    "val_loss = history.history['val_loss']\n",
    "epochs = range(1, len(loss) + 1)\n",
    "plt.figure()\n",
    "plt.plot(epochs, loss, 'bo', label='Training loss')\n",
    "plt.plot(epochs, val_loss, 'b', label='Validation loss')\n",
    "plt.title('Training and validation loss')\n",
    "plt.legend()\n",
    "plt.show()"
   ]
  },
  {
   "cell_type": "code",
   "execution_count": 9,
   "metadata": {},
   "outputs": [
    {
     "name": "stdout",
     "output_type": "stream",
     "text": [
      "test loss: 0.04021497815847397\n"
     ]
    }
   ],
   "source": [
    "test_loss = model.evaluate_generator(test_data_gen,steps=test_steps)\n",
    "print('test loss:', test_loss)"
   ]
  },
  {
   "cell_type": "code",
   "execution_count": 10,
   "metadata": {},
   "outputs": [
    {
     "data": {
      "text/plain": [
       "(5163, 1)"
      ]
     },
     "execution_count": 10,
     "metadata": {},
     "output_type": "execute_result"
    }
   ],
   "source": [
    "testPredict = model.predict_generator(test_data_gen)\n",
    "testPredict.shape"
   ]
  },
  {
   "cell_type": "code",
   "execution_count": 11,
   "metadata": {},
   "outputs": [],
   "source": [
    "testPredict = scaler.inverse_transform(testPredict)"
   ]
  },
  {
   "cell_type": "code",
   "execution_count": 12,
   "metadata": {},
   "outputs": [
    {
     "name": "stdout",
     "output_type": "stream",
     "text": [
      "(5163, 1)\n"
     ]
    }
   ],
   "source": [
    "testY = get_y_from_generator(test_data_gen)"
   ]
  },
  {
   "cell_type": "code",
   "execution_count": 13,
   "metadata": {},
   "outputs": [],
   "source": [
    "testY = scaler.inverse_transform(testY)"
   ]
  },
  {
   "cell_type": "code",
   "execution_count": 14,
   "metadata": {},
   "outputs": [
    {
     "name": "stdout",
     "output_type": "stream",
     "text": [
      "Test Score: 0.22 RMSE\n"
     ]
    }
   ],
   "source": [
    "from sklearn.metrics import mean_squared_error\n",
    "import math\n",
    "# calculate root mean squared error\n",
    "testScore = math.sqrt(mean_squared_error(testY[:, 0], testPredict[:,0]))\n",
    "print('Test Score: %.2f RMSE' % (testScore))"
   ]
  },
  {
   "cell_type": "code",
   "execution_count": 15,
   "metadata": {},
   "outputs": [
    {
     "data": {
      "image/png": "[encoded data removed]",
      "text/plain": [
       "<Figure size 432x288 with 1 Axes>"
      ]
     },
     "metadata": {
      "needs_background": "light"
     },
     "output_type": "display_data"
    }
   ],
   "source": [
    "# error distribution\n",
    "error = testPredict - testY\n",
    "plt.hist(error, bins = 25)\n",
    "plt.xlabel(\"Prediction Error \")\n",
    "_ = plt.ylabel(\"Count\")"
   ]
  },
  {
   "cell_type": "markdown",
   "metadata": {},
   "source": [
    "The results interpretation :\n",
    "To prevent a model from learning misleading or irrelevant patterns found in the training data, the best solution is to get more training data.\n",
    "A model trained on more data will naturally generalize better.\n",
    "A lower validation loss signals a better model.\n",
    "It’s evident from the training and validation curves that the model is overfitting:the training and validation losses start to diverge considerably after a few epochs.\n",
    "To use dropout with recurrent networks, you should use a time-constant dropout mask and recurrent dropout mask. These are built into Keras recurrent layers, so all you have to do is use the dropout and recurrent_dropout arguments of recurrent layers.\n",
    "When you have data where temporal ordering matters, recurrent networks are a great fit and easily outperform models that first flatten the temporal data.\n",
    "\n",
    "\n",
    "    \n",
    "    "
   ]
  }
 ],
 "metadata": {
  "kernelspec": {
   "display_name": "Python 3",
   "language": "python",
   "name": "python3"
  },
  "language_info": {
   "codemirror_mode": {
    "name": "ipython",
    "version": 3
   },
   "file_extension": ".py",
   "mimetype": "text/x-python",
   "name": "python",
   "nbconvert_exporter": "python",
   "pygments_lexer": "ipython3",
   "version": "3.7.3"
  }
 },
 "nbformat": 4,
 "nbformat_minor": 1
}
